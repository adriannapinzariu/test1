{
 "cells": [
  {
   "cell_type": "code",
   "execution_count": 1,
   "id": "a21170d9",
   "metadata": {},
   "outputs": [
    {
     "ename": "ModuleNotFoundError",
     "evalue": "No module named 'matplotlib'",
     "output_type": "error",
     "traceback": [
      "\u001b[0;31m---------------------------------------------------------------------------\u001b[0m",
      "\u001b[0;31mModuleNotFoundError\u001b[0m                       Traceback (most recent call last)",
      "Cell \u001b[0;32mIn[1], line 1\u001b[0m\n\u001b[0;32m----> 1\u001b[0m \u001b[38;5;28;01mimport\u001b[39;00m \u001b[38;5;21;01mmatplotlib\u001b[39;00m\u001b[38;5;21;01m.\u001b[39;00m\u001b[38;5;21;01mpyplot\u001b[39;00m \u001b[38;5;28;01mas\u001b[39;00m \u001b[38;5;21;01mplt\u001b[39;00m\n\u001b[1;32m      2\u001b[0m \u001b[38;5;28;01mimport\u001b[39;00m \u001b[38;5;21;01mnumpy\u001b[39;00m \u001b[38;5;28;01mas\u001b[39;00m \u001b[38;5;21;01mnp\u001b[39;00m\n\u001b[1;32m      3\u001b[0m \u001b[38;5;28;01mimport\u001b[39;00m \u001b[38;5;21;01mpandas\u001b[39;00m \u001b[38;5;28;01mas\u001b[39;00m \u001b[38;5;21;01mpd\u001b[39;00m\n",
      "\u001b[0;31mModuleNotFoundError\u001b[0m: No module named 'matplotlib'"
     ]
    }
   ],
   "source": [
    "import matplotlib.pyplot as plt\n",
    "import numpy as np\n",
    "import pandas as pd\n",
    "from sklearn.cluster import KMeans\n",
    "from scipy.spatial.distance import cdist\n",
    "from sklearn.preprocessing import StandardScaler\n",
    "from kneed import KneeLocator\n",
    "import seaborn as sns\n",
    "%matplotlib inline"
   ]
  },
  {
   "cell_type": "code",
   "execution_count": 2,
   "id": "362394fd",
   "metadata": {},
   "outputs": [],
   "source": [
    "path = \"/Users/adriannapinzariu/Desktop/LIDC_newMode_2022 (1).csv\""
   ]
  },
  {
   "cell_type": "code",
   "execution_count": 3,
   "id": "77312725",
   "metadata": {},
   "outputs": [],
   "source": [
    "df = pd.read_csv(path)"
   ]
  },
  {
   "cell_type": "code",
   "execution_count": 4,
   "id": "1a578655",
   "metadata": {},
   "outputs": [],
   "source": [
    "# Drop non-numeric columns\n",
    "df = df.select_dtypes(include=['float', 'int'])\n",
    "\n",
    "# Drop rows with NaN values\n",
    "df = df.dropna()"
   ]
  },
  {
   "cell_type": "code",
   "execution_count": 5,
   "id": "7c2cf721",
   "metadata": {},
   "outputs": [
    {
     "name": "stdout",
     "output_type": "stream",
     "text": [
      "      Malignancy  Spiculation\n",
      "0              5            5\n",
      "1              5            1\n",
      "2              5            2\n",
      "3              4            2\n",
      "4              4            1\n",
      "...          ...          ...\n",
      "2682           4            2\n",
      "2683           2            1\n",
      "2684           2            1\n",
      "2685           5            2\n",
      "2686           2            1\n",
      "\n",
      "[2622 rows x 2 columns]\n"
     ]
    }
   ],
   "source": [
    "# use DataFrame.loc[] method to filter the columns\n",
    "sortByDf = df.loc[:, ['Malignancy', 'Spiculation']]\n",
    "\n",
    "# print the resulting dataframe\n",
    "print(sortByDf)"
   ]
  },
  {
   "cell_type": "code",
   "execution_count": 6,
   "id": "bbf896c4",
   "metadata": {},
   "outputs": [],
   "source": [
    "df = df.drop(['RadiologistID', 'Subtlety_1', 'InternalStructure_1', 'Sphericity_1', 'Margin_1', 'Lobulation_1', 'Spiculation_1', 'Texture_1', 'Malignancy_1', 'Subtlety_2', 'InternalStructure_2', 'Sphericity_2', 'Margin_2', 'Lobulation_2', 'Spiculation_2', 'Texture_2', 'Malignancy_2', 'Subtlety_3', 'InternalStructure_3', 'Sphericity_3', 'Margin_3', 'Lobulation_3', 'Spiculation_3', 'Texture_3', 'Malignancy_3', 'Subtlety_4', 'InternalStructure_4', 'Sphericity_4', 'Margin_4', 'Lobulation_4', 'Spiculation_4', 'Texture_4', 'Malignancy_4', 'Subtlety', 'InternalStructure', 'Sphericity', 'Margin', 'Lobulation', 'Spiculation', 'Texture'], axis=1)"
   ]
  },
  {
   "cell_type": "code",
   "execution_count": 7,
   "id": "13505ed8",
   "metadata": {},
   "outputs": [],
   "source": [
    "df = df.drop(['Calcification_1', 'Calcification_2', 'Calcification_3', 'Calcification_4', 'Calcification'], axis = 1)"
   ]
  },
  {
   "cell_type": "code",
   "execution_count": 8,
   "id": "c0187f92",
   "metadata": {},
   "outputs": [],
   "source": [
    "df = df.drop(['Malignancy', 'noduleID', 'InstanceID', 'imageZposition', 'PixelSpacing', 'PixelArea','SecondMoment', 'SuperscribedDiameter'], axis = 1)"
   ]
  },
  {
   "cell_type": "code",
   "execution_count": 9,
   "id": "bd461f41",
   "metadata": {},
   "outputs": [
    {
     "data": {
      "text/plain": [
       "Index(['Area', 'ConvexArea', 'Perimeter', 'ConvexPerimeter', 'EquivDiameter',\n",
       "       'MajorAxisLength', 'MinorAxisLength', 'Elongation', 'Compactness',\n",
       "       'Eccentricity', 'Solidity', 'Extent', 'Circularity', 'RadialDistanceSD',\n",
       "       'Roughness', 'MinIntensity', 'MaxIntensity', 'MeanIntensity',\n",
       "       'SDIntensity', 'MinIntensityBG', 'MaxIntensityBG', 'MeanIntensityBG',\n",
       "       'SDIntensityBG', 'IntensityDifference', 'markov1', 'markov2', 'markov3',\n",
       "       'markov4', 'markov5', 'gabormean_0_0', 'gaborSD_0_0', 'gabormean_0_1',\n",
       "       'gaborSD_0_1', 'gabormean_0_2', 'gaborSD_0_2', 'gabormean_1_0',\n",
       "       'gaborSD_1_0', 'gabormean_1_1', 'gaborSD_1_1', 'gabormean_1_2',\n",
       "       'gaborSD_1_2', 'gabormean_2_0', 'gaborSD_2_0', 'gabormean_2_1',\n",
       "       'gaborSD_2_1', 'gabormean_2_2', 'gaborSD_2_2', 'gabormean_3_0',\n",
       "       'gaborSD_3_0', 'gabormean_3_1', 'gaborSD_3_1', 'gabormean_3_2',\n",
       "       'gaborSD_3_2', 'Contrast', 'Correlation', 'Energy', 'Homogeneity',\n",
       "       'Entropy', 'x_3rdordermoment', 'Inversevariance', 'Sumaverage',\n",
       "       'Variance', 'Clustertendency', 'MaxProbability'],\n",
       "      dtype='object')"
      ]
     },
     "execution_count": 9,
     "metadata": {},
     "output_type": "execute_result"
    }
   ],
   "source": [
    "df.columns"
   ]
  },
  {
   "cell_type": "code",
   "execution_count": 10,
   "id": "87549682",
   "metadata": {},
   "outputs": [
    {
     "data": {
      "text/html": [
       "<div>\n",
       "<style scoped>\n",
       "    .dataframe tbody tr th:only-of-type {\n",
       "        vertical-align: middle;\n",
       "    }\n",
       "\n",
       "    .dataframe tbody tr th {\n",
       "        vertical-align: top;\n",
       "    }\n",
       "\n",
       "    .dataframe thead th {\n",
       "        text-align: right;\n",
       "    }\n",
       "</style>\n",
       "<table border=\"1\" class=\"dataframe\">\n",
       "  <thead>\n",
       "    <tr style=\"text-align: right;\">\n",
       "      <th></th>\n",
       "      <th>Area</th>\n",
       "      <th>ConvexArea</th>\n",
       "      <th>Perimeter</th>\n",
       "      <th>ConvexPerimeter</th>\n",
       "      <th>EquivDiameter</th>\n",
       "      <th>MajorAxisLength</th>\n",
       "      <th>MinorAxisLength</th>\n",
       "      <th>Elongation</th>\n",
       "      <th>Compactness</th>\n",
       "      <th>Eccentricity</th>\n",
       "      <th>...</th>\n",
       "      <th>Correlation</th>\n",
       "      <th>Energy</th>\n",
       "      <th>Homogeneity</th>\n",
       "      <th>Entropy</th>\n",
       "      <th>x_3rdordermoment</th>\n",
       "      <th>Inversevariance</th>\n",
       "      <th>Sumaverage</th>\n",
       "      <th>Variance</th>\n",
       "      <th>Clustertendency</th>\n",
       "      <th>MaxProbability</th>\n",
       "    </tr>\n",
       "  </thead>\n",
       "  <tbody>\n",
       "    <tr>\n",
       "      <th>0</th>\n",
       "      <td>1094</td>\n",
       "      <td>1286</td>\n",
       "      <td>168.852814</td>\n",
       "      <td>135.372918</td>\n",
       "      <td>37.321898</td>\n",
       "      <td>42.803687</td>\n",
       "      <td>35.834900</td>\n",
       "      <td>1.194469</td>\n",
       "      <td>2.073908</td>\n",
       "      <td>0.546909</td>\n",
       "      <td>...</td>\n",
       "      <td>0.894</td>\n",
       "      <td>0.0003</td>\n",
       "      <td>0.0532</td>\n",
       "      <td>8.15</td>\n",
       "      <td>1290000</td>\n",
       "      <td>0.0223</td>\n",
       "      <td>661.0</td>\n",
       "      <td>143000</td>\n",
       "      <td>541000</td>\n",
       "      <td>0.0009</td>\n",
       "    </tr>\n",
       "    <tr>\n",
       "      <th>1</th>\n",
       "      <td>918</td>\n",
       "      <td>951</td>\n",
       "      <td>121.840620</td>\n",
       "      <td>116.923682</td>\n",
       "      <td>34.188213</td>\n",
       "      <td>42.015647</td>\n",
       "      <td>28.631957</td>\n",
       "      <td>1.467439</td>\n",
       "      <td>1.286861</td>\n",
       "      <td>0.731856</td>\n",
       "      <td>...</td>\n",
       "      <td>0.781</td>\n",
       "      <td>0.0005</td>\n",
       "      <td>0.0567</td>\n",
       "      <td>7.76</td>\n",
       "      <td>11100000</td>\n",
       "      <td>0.0221</td>\n",
       "      <td>260.0</td>\n",
       "      <td>32700</td>\n",
       "      <td>115000</td>\n",
       "      <td>0.0012</td>\n",
       "    </tr>\n",
       "    <tr>\n",
       "      <th>2</th>\n",
       "      <td>931</td>\n",
       "      <td>1062</td>\n",
       "      <td>148.267027</td>\n",
       "      <td>119.799290</td>\n",
       "      <td>34.429435</td>\n",
       "      <td>39.635819</td>\n",
       "      <td>30.844618</td>\n",
       "      <td>1.285016</td>\n",
       "      <td>1.879012</td>\n",
       "      <td>0.628016</td>\n",
       "      <td>...</td>\n",
       "      <td>0.899</td>\n",
       "      <td>0.0004</td>\n",
       "      <td>0.0572</td>\n",
       "      <td>8.03</td>\n",
       "      <td>735000</td>\n",
       "      <td>0.0247</td>\n",
       "      <td>416.0</td>\n",
       "      <td>111000</td>\n",
       "      <td>420000</td>\n",
       "      <td>0.0010</td>\n",
       "    </tr>\n",
       "    <tr>\n",
       "      <th>3</th>\n",
       "      <td>161</td>\n",
       "      <td>167</td>\n",
       "      <td>51.455844</td>\n",
       "      <td>49.201081</td>\n",
       "      <td>14.317527</td>\n",
       "      <td>18.125068</td>\n",
       "      <td>11.574663</td>\n",
       "      <td>1.565926</td>\n",
       "      <td>1.308681</td>\n",
       "      <td>0.769539</td>\n",
       "      <td>...</td>\n",
       "      <td>0.692</td>\n",
       "      <td>0.0027</td>\n",
       "      <td>0.0312</td>\n",
       "      <td>6.03</td>\n",
       "      <td>-469000</td>\n",
       "      <td>0.0107</td>\n",
       "      <td>420.0</td>\n",
       "      <td>98700</td>\n",
       "      <td>333000</td>\n",
       "      <td>0.0043</td>\n",
       "    </tr>\n",
       "    <tr>\n",
       "      <th>4</th>\n",
       "      <td>246</td>\n",
       "      <td>251</td>\n",
       "      <td>58.769553</td>\n",
       "      <td>57.721132</td>\n",
       "      <td>17.697936</td>\n",
       "      <td>18.324991</td>\n",
       "      <td>17.321312</td>\n",
       "      <td>1.057945</td>\n",
       "      <td>1.117274</td>\n",
       "      <td>0.326408</td>\n",
       "      <td>...</td>\n",
       "      <td>0.793</td>\n",
       "      <td>0.0018</td>\n",
       "      <td>0.0764</td>\n",
       "      <td>6.43</td>\n",
       "      <td>8600000</td>\n",
       "      <td>0.0392</td>\n",
       "      <td>565.0</td>\n",
       "      <td>137000</td>\n",
       "      <td>492000</td>\n",
       "      <td>0.0052</td>\n",
       "    </tr>\n",
       "  </tbody>\n",
       "</table>\n",
       "<p>5 rows × 64 columns</p>\n",
       "</div>"
      ],
      "text/plain": [
       "   Area  ConvexArea   Perimeter  ConvexPerimeter  EquivDiameter  \\\n",
       "0  1094        1286  168.852814       135.372918      37.321898   \n",
       "1   918         951  121.840620       116.923682      34.188213   \n",
       "2   931        1062  148.267027       119.799290      34.429435   \n",
       "3   161         167   51.455844        49.201081      14.317527   \n",
       "4   246         251   58.769553        57.721132      17.697936   \n",
       "\n",
       "   MajorAxisLength  MinorAxisLength  Elongation  Compactness  Eccentricity  \\\n",
       "0        42.803687        35.834900    1.194469     2.073908      0.546909   \n",
       "1        42.015647        28.631957    1.467439     1.286861      0.731856   \n",
       "2        39.635819        30.844618    1.285016     1.879012      0.628016   \n",
       "3        18.125068        11.574663    1.565926     1.308681      0.769539   \n",
       "4        18.324991        17.321312    1.057945     1.117274      0.326408   \n",
       "\n",
       "   ...  Correlation  Energy  Homogeneity  Entropy  x_3rdordermoment  \\\n",
       "0  ...        0.894  0.0003       0.0532     8.15           1290000   \n",
       "1  ...        0.781  0.0005       0.0567     7.76          11100000   \n",
       "2  ...        0.899  0.0004       0.0572     8.03            735000   \n",
       "3  ...        0.692  0.0027       0.0312     6.03           -469000   \n",
       "4  ...        0.793  0.0018       0.0764     6.43           8600000   \n",
       "\n",
       "   Inversevariance  Sumaverage  Variance  Clustertendency  MaxProbability  \n",
       "0           0.0223       661.0    143000           541000          0.0009  \n",
       "1           0.0221       260.0     32700           115000          0.0012  \n",
       "2           0.0247       416.0    111000           420000          0.0010  \n",
       "3           0.0107       420.0     98700           333000          0.0043  \n",
       "4           0.0392       565.0    137000           492000          0.0052  \n",
       "\n",
       "[5 rows x 64 columns]"
      ]
     },
     "execution_count": 10,
     "metadata": {},
     "output_type": "execute_result"
    }
   ],
   "source": [
    "df.head()"
   ]
  },
  {
   "cell_type": "code",
   "execution_count": 11,
   "id": "120d441f",
   "metadata": {},
   "outputs": [],
   "source": [
    "import umap.umap_ as umap"
   ]
  },
  {
   "cell_type": "code",
   "execution_count": 12,
   "id": "174d0456",
   "metadata": {},
   "outputs": [],
   "source": [
    "# Scaling the Data\n",
    "scaled_df = StandardScaler().fit_transform(df)"
   ]
  },
  {
   "cell_type": "code",
   "execution_count": 13,
   "id": "00ccd67a",
   "metadata": {},
   "outputs": [
    {
     "name": "stderr",
     "output_type": "stream",
     "text": [
      "OMP: Info #276: omp_set_nested routine deprecated, please use omp_set_max_active_levels instead.\n"
     ]
    }
   ],
   "source": [
    "# UMAP\n",
    "umap_model = umap.UMAP(n_neighbors=15, min_dist=0.1, n_components=2)\n",
    "embedding = umap_model.fit_transform(scaled_df)"
   ]
  },
  {
   "cell_type": "code",
   "execution_count": 14,
   "id": "a6430ca6",
   "metadata": {},
   "outputs": [
    {
     "data": {
      "text/plain": [
       "(2622, 2)"
      ]
     },
     "execution_count": 14,
     "metadata": {},
     "output_type": "execute_result"
    }
   ],
   "source": [
    "embedding.shape"
   ]
  },
  {
   "cell_type": "code",
   "execution_count": 15,
   "id": "9b1aa9cd",
   "metadata": {},
   "outputs": [
    {
     "data": {
      "image/png": "[encoded data removed]",
      "text/plain": [
       "<Figure size 640x480 with 2 Axes>"
      ]
     },
     "metadata": {},
     "output_type": "display_data"
    }
   ],
   "source": [
    "# Plot the UMAP visualization, color-coded by the malignancy rating in sortByDf\n",
    "plt.scatter(embedding[:, 0], embedding[:, 1], c=sortByDf['Malignancy'], cmap='viridis')\n",
    "plt.xlabel('PC1')\n",
    "plt.ylabel('PC2')\n",
    "plt.title('UMAP plot colored by malignancy rating')\n",
    "plt.colorbar()\n",
    "plt.show()"
   ]
  },
  {
   "cell_type": "code",
   "execution_count": 16,
   "id": "abfe82df",
   "metadata": {},
   "outputs": [],
   "source": [
    "# Set up lists to store distortions and inertias\n",
    "distortions = []\n",
    "inertias = []"
   ]
  },
  {
   "cell_type": "code",
   "execution_count": 17,
   "id": "7c6becde",
   "metadata": {},
   "outputs": [],
   "source": [
    "# Set up dictionaries to store mappings\n",
    "mapping1 = {}\n",
    "mapping2 = {}"
   ]
  },
  {
   "cell_type": "code",
   "execution_count": 18,
   "id": "d44514d2",
   "metadata": {},
   "outputs": [],
   "source": [
    "# Set up range of k values to test\n",
    "K = range(2, 13)"
   ]
  },
  {
   "cell_type": "code",
   "execution_count": 19,
   "id": "655d1544",
   "metadata": {},
   "outputs": [
    {
     "name": "stderr",
     "output_type": "stream",
     "text": [
      "/opt/homebrew/Caskroom/miniforge/base/lib/python3.10/site-packages/sklearn/cluster/_kmeans.py:870: FutureWarning: The default value of `n_init` will change from 10 to 'auto' in 1.4. Set the value of `n_init` explicitly to suppress the warning\n",
      "  warnings.warn(\n",
      "/opt/homebrew/Caskroom/miniforge/base/lib/python3.10/site-packages/sklearn/cluster/_kmeans.py:870: FutureWarning: The default value of `n_init` will change from 10 to 'auto' in 1.4. Set the value of `n_init` explicitly to suppress the warning\n",
      "  warnings.warn(\n",
      "/opt/homebrew/Caskroom/miniforge/base/lib/python3.10/site-packages/sklearn/cluster/_kmeans.py:870: FutureWarning: The default value of `n_init` will change from 10 to 'auto' in 1.4. Set the value of `n_init` explicitly to suppress the warning\n",
      "  warnings.warn(\n",
      "/opt/homebrew/Caskroom/miniforge/base/lib/python3.10/site-packages/sklearn/cluster/_kmeans.py:870: FutureWarning: The default value of `n_init` will change from 10 to 'auto' in 1.4. Set the value of `n_init` explicitly to suppress the warning\n",
      "  warnings.warn(\n",
      "/opt/homebrew/Caskroom/miniforge/base/lib/python3.10/site-packages/sklearn/cluster/_kmeans.py:870: FutureWarning: The default value of `n_init` will change from 10 to 'auto' in 1.4. Set the value of `n_init` explicitly to suppress the warning\n",
      "  warnings.warn(\n",
      "/opt/homebrew/Caskroom/miniforge/base/lib/python3.10/site-packages/sklearn/cluster/_kmeans.py:870: FutureWarning: The default value of `n_init` will change from 10 to 'auto' in 1.4. Set the value of `n_init` explicitly to suppress the warning\n",
      "  warnings.warn(\n",
      "/opt/homebrew/Caskroom/miniforge/base/lib/python3.10/site-packages/sklearn/cluster/_kmeans.py:870: FutureWarning: The default value of `n_init` will change from 10 to 'auto' in 1.4. Set the value of `n_init` explicitly to suppress the warning\n",
      "  warnings.warn(\n",
      "/opt/homebrew/Caskroom/miniforge/base/lib/python3.10/site-packages/sklearn/cluster/_kmeans.py:870: FutureWarning: The default value of `n_init` will change from 10 to 'auto' in 1.4. Set the value of `n_init` explicitly to suppress the warning\n",
      "  warnings.warn(\n",
      "/opt/homebrew/Caskroom/miniforge/base/lib/python3.10/site-packages/sklearn/cluster/_kmeans.py:870: FutureWarning: The default value of `n_init` will change from 10 to 'auto' in 1.4. Set the value of `n_init` explicitly to suppress the warning\n",
      "  warnings.warn(\n",
      "/opt/homebrew/Caskroom/miniforge/base/lib/python3.10/site-packages/sklearn/cluster/_kmeans.py:870: FutureWarning: The default value of `n_init` will change from 10 to 'auto' in 1.4. Set the value of `n_init` explicitly to suppress the warning\n",
      "  warnings.warn(\n",
      "/opt/homebrew/Caskroom/miniforge/base/lib/python3.10/site-packages/sklearn/cluster/_kmeans.py:870: FutureWarning: The default value of `n_init` will change from 10 to 'auto' in 1.4. Set the value of `n_init` explicitly to suppress the warning\n",
      "  warnings.warn(\n",
      "/opt/homebrew/Caskroom/miniforge/base/lib/python3.10/site-packages/sklearn/cluster/_kmeans.py:870: FutureWarning: The default value of `n_init` will change from 10 to 'auto' in 1.4. Set the value of `n_init` explicitly to suppress the warning\n",
      "  warnings.warn(\n",
      "/opt/homebrew/Caskroom/miniforge/base/lib/python3.10/site-packages/sklearn/cluster/_kmeans.py:870: FutureWarning: The default value of `n_init` will change from 10 to 'auto' in 1.4. Set the value of `n_init` explicitly to suppress the warning\n",
      "  warnings.warn(\n",
      "/opt/homebrew/Caskroom/miniforge/base/lib/python3.10/site-packages/sklearn/cluster/_kmeans.py:870: FutureWarning: The default value of `n_init` will change from 10 to 'auto' in 1.4. Set the value of `n_init` explicitly to suppress the warning\n",
      "  warnings.warn(\n",
      "/opt/homebrew/Caskroom/miniforge/base/lib/python3.10/site-packages/sklearn/cluster/_kmeans.py:870: FutureWarning: The default value of `n_init` will change from 10 to 'auto' in 1.4. Set the value of `n_init` explicitly to suppress the warning\n",
      "  warnings.warn(\n",
      "/opt/homebrew/Caskroom/miniforge/base/lib/python3.10/site-packages/sklearn/cluster/_kmeans.py:870: FutureWarning: The default value of `n_init` will change from 10 to 'auto' in 1.4. Set the value of `n_init` explicitly to suppress the warning\n",
      "  warnings.warn(\n",
      "/opt/homebrew/Caskroom/miniforge/base/lib/python3.10/site-packages/sklearn/cluster/_kmeans.py:870: FutureWarning: The default value of `n_init` will change from 10 to 'auto' in 1.4. Set the value of `n_init` explicitly to suppress the warning\n",
      "  warnings.warn(\n",
      "/opt/homebrew/Caskroom/miniforge/base/lib/python3.10/site-packages/sklearn/cluster/_kmeans.py:870: FutureWarning: The default value of `n_init` will change from 10 to 'auto' in 1.4. Set the value of `n_init` explicitly to suppress the warning\n",
      "  warnings.warn(\n",
      "/opt/homebrew/Caskroom/miniforge/base/lib/python3.10/site-packages/sklearn/cluster/_kmeans.py:870: FutureWarning: The default value of `n_init` will change from 10 to 'auto' in 1.4. Set the value of `n_init` explicitly to suppress the warning\n",
      "  warnings.warn(\n",
      "/opt/homebrew/Caskroom/miniforge/base/lib/python3.10/site-packages/sklearn/cluster/_kmeans.py:870: FutureWarning: The default value of `n_init` will change from 10 to 'auto' in 1.4. Set the value of `n_init` explicitly to suppress the warning\n",
      "  warnings.warn(\n",
      "/opt/homebrew/Caskroom/miniforge/base/lib/python3.10/site-packages/sklearn/cluster/_kmeans.py:870: FutureWarning: The default value of `n_init` will change from 10 to 'auto' in 1.4. Set the value of `n_init` explicitly to suppress the warning\n",
      "  warnings.warn(\n",
      "/opt/homebrew/Caskroom/miniforge/base/lib/python3.10/site-packages/sklearn/cluster/_kmeans.py:870: FutureWarning: The default value of `n_init` will change from 10 to 'auto' in 1.4. Set the value of `n_init` explicitly to suppress the warning\n",
      "  warnings.warn(\n"
     ]
    }
   ],
   "source": [
    "# Loop through each k value\n",
    "for k in K:\n",
    "    # Building and fitting the model\n",
    "    kmeanModel = KMeans(n_clusters=k).fit(df)\n",
    "    kmeanModel.fit(df)\n",
    "  \n",
    "    # Calculate distortion and inertia\n",
    "    distortions.append(sum(np.min(cdist(df, kmeanModel.cluster_centers_,\n",
    "                                        'euclidean'), axis=1)) / df.shape[0])\n",
    "    inertias.append(kmeanModel.inertia_)\n",
    "  \n",
    "    # Store distortion and inertia mappings\n",
    "    mapping1[k] = sum(np.min(cdist(df, kmeanModel.cluster_centers_,\n",
    "                                   'euclidean'), axis=1)) / df.shape[0]\n",
    "    mapping2[k] = kmeanModel.inertia_"
   ]
  },
  {
   "cell_type": "code",
   "execution_count": 20,
   "id": "866b548c",
   "metadata": {},
   "outputs": [
    {
     "data": {
      "image/png": "[encoded data removed]",
      "text/plain": [
       "<Figure size 640x480 with 1 Axes>"
      ]
     },
     "metadata": {},
     "output_type": "display_data"
    }
   ],
   "source": [
    "# Plot the elbow curve\n",
    "plt.plot(K, distortions, 'bx-')\n",
    "plt.xlabel('Number of Clusters (k)')\n",
    "plt.ylabel('Distortion')\n",
    "plt.title('The Elbow Method showing the optimal k')\n",
    "plt.show()"
   ]
  },
  {
   "cell_type": "code",
   "execution_count": 21,
   "id": "211763c3",
   "metadata": {},
   "outputs": [],
   "source": [
    "# Use kneed to find the elbow point\n",
    "kneedle = KneeLocator(K, distortions, S=1.0, curve='convex', direction='decreasing')\n",
    "elbow = kneedle.elbow"
   ]
  },
  {
   "cell_type": "code",
   "execution_count": 22,
   "id": "9492c42f",
   "metadata": {},
   "outputs": [
    {
     "name": "stdout",
     "output_type": "stream",
     "text": [
      "The elbow point is at index 8\n"
     ]
    }
   ],
   "source": [
    "# Print the index of the elbow point\n",
    "print(\"The elbow point is at index\", elbow)"
   ]
  }
 ],
 "metadata": {
  "kernelspec": {
   "display_name": "Python 3 (ipykernel)",
   "language": "python",
   "name": "python3"
  },
  "language_info": {
   "codemirror_mode": {
    "name": "ipython",
    "version": 3
   },
   "file_extension": ".py",
   "mimetype": "text/x-python",
   "name": "python",
   "nbconvert_exporter": "python",
   "pygments_lexer": "ipython3",
   "version": "3.11.2"
  },
  "vscode": {
   "interpreter": {
    "hash": "b0fa6594d8f4cbf19f97940f81e996739fb7646882a419484c72d19e05852a7e"
   }
  }
 },
 "nbformat": 4,
 "nbformat_minor": 5
}
