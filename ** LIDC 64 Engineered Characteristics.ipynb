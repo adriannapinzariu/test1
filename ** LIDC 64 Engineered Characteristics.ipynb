{
 "cells": [
  {
   "cell_type": "code",
   "execution_count": 1,
   "id": "c4a61b5e",
   "metadata": {},
   "outputs": [],
   "source": [
    "import matplotlib.pyplot as plt\n",
    "import numpy as np\n",
    "import pandas as pd\n",
    "import seaborn as sns\n",
    "from sklearn.metrics.cluster import homogeneity_score, completeness_score\n",
    "from sklearn.cluster import KMeans\n",
    "from scipy.spatial.distance import cdist\n",
    "from kneed import KneeLocator\n",
    "%matplotlib inline"
   ]
  },
  {
   "cell_type": "code",
   "execution_count": 2,
   "id": "0d2d1ca4",
   "metadata": {},
   "outputs": [],
   "source": [
    "path = \"/Users/adriannapinzariu/Desktop/LIDC_newMode_2022 (1).csv\""
   ]
  },
  {
   "cell_type": "code",
   "execution_count": 3,
   "id": "6809b40d",
   "metadata": {},
   "outputs": [],
   "source": [
    "df = pd.read_csv(path)"
   ]
  },
  {
   "cell_type": "code",
   "execution_count": 4,
   "id": "a8170cd1",
   "metadata": {},
   "outputs": [],
   "source": [
    "# Drop non-numeric columns\n",
    "df = df.select_dtypes(include=['float', 'int'])\n",
    "\n",
    "# Drop rows with NaN values\n",
    "df = df.dropna()"
   ]
  },
  {
   "cell_type": "code",
   "execution_count": 5,
   "id": "b749c2c9",
   "metadata": {},
   "outputs": [
    {
     "name": "stdout",
     "output_type": "stream",
     "text": [
      "      Malignancy  Spiculation\n",
      "0              5            5\n",
      "1              5            1\n",
      "2              5            2\n",
      "3              4            2\n",
      "4              4            1\n",
      "...          ...          ...\n",
      "2682           4            2\n",
      "2683           2            1\n",
      "2684           2            1\n",
      "2685           5            2\n",
      "2686           2            1\n",
      "\n",
      "[2622 rows x 2 columns]\n"
     ]
    }
   ],
   "source": [
    "# use DataFrame.loc[] method to filter the columns\n",
    "sortByDf = df.loc[:, ['Malignancy', 'Spiculation']]\n",
    "\n",
    "# print the resulting dataframe\n",
    "print(sortByDf)"
   ]
  },
  {
   "cell_type": "code",
   "execution_count": 6,
   "id": "f2ca2db2",
   "metadata": {},
   "outputs": [],
   "source": [
    "df = df.drop(['RadiologistID', 'Subtlety_1', 'InternalStructure_1', 'Sphericity_1', 'Margin_1', 'Lobulation_1', 'Spiculation_1', 'Texture_1', 'Malignancy_1', 'Subtlety_2', 'InternalStructure_2', 'Sphericity_2', 'Margin_2', 'Lobulation_2', 'Spiculation_2', 'Texture_2', 'Malignancy_2', 'Subtlety_3', 'InternalStructure_3', 'Sphericity_3', 'Margin_3', 'Lobulation_3', 'Spiculation_3', 'Texture_3', 'Malignancy_3', 'Subtlety_4', 'InternalStructure_4', 'Sphericity_4', 'Margin_4', 'Lobulation_4', 'Spiculation_4', 'Texture_4', 'Malignancy_4', 'Subtlety', 'InternalStructure', 'Sphericity', 'Margin', 'Lobulation', 'Spiculation', 'Texture'], axis=1)"
   ]
  },
  {
   "cell_type": "code",
   "execution_count": 7,
   "id": "22e3668e",
   "metadata": {},
   "outputs": [],
   "source": [
    "df = df.drop(['Calcification_1', 'Calcification_2', 'Calcification_3', 'Calcification_4', 'Calcification'], axis = 1)"
   ]
  },
  {
   "cell_type": "code",
   "execution_count": 8,
   "id": "55620162",
   "metadata": {},
   "outputs": [],
   "source": [
    "df = df.drop(['Malignancy', 'noduleID', 'InstanceID', 'imageZposition', 'PixelSpacing', 'PixelArea','SecondMoment', 'SuperscribedDiameter'], axis = 1)"
   ]
  },
  {
   "cell_type": "code",
   "execution_count": 9,
   "id": "98904e9d",
   "metadata": {},
   "outputs": [
    {
     "data": {
      "text/plain": [
       "Index(['Area', 'ConvexArea', 'Perimeter', 'ConvexPerimeter', 'EquivDiameter',\n",
       "       'MajorAxisLength', 'MinorAxisLength', 'Elongation', 'Compactness',\n",
       "       'Eccentricity', 'Solidity', 'Extent', 'Circularity', 'RadialDistanceSD',\n",
       "       'Roughness', 'MinIntensity', 'MaxIntensity', 'MeanIntensity',\n",
       "       'SDIntensity', 'MinIntensityBG', 'MaxIntensityBG', 'MeanIntensityBG',\n",
       "       'SDIntensityBG', 'IntensityDifference', 'markov1', 'markov2', 'markov3',\n",
       "       'markov4', 'markov5', 'gabormean_0_0', 'gaborSD_0_0', 'gabormean_0_1',\n",
       "       'gaborSD_0_1', 'gabormean_0_2', 'gaborSD_0_2', 'gabormean_1_0',\n",
       "       'gaborSD_1_0', 'gabormean_1_1', 'gaborSD_1_1', 'gabormean_1_2',\n",
       "       'gaborSD_1_2', 'gabormean_2_0', 'gaborSD_2_0', 'gabormean_2_1',\n",
       "       'gaborSD_2_1', 'gabormean_2_2', 'gaborSD_2_2', 'gabormean_3_0',\n",
       "       'gaborSD_3_0', 'gabormean_3_1', 'gaborSD_3_1', 'gabormean_3_2',\n",
       "       'gaborSD_3_2', 'Contrast', 'Correlation', 'Energy', 'Homogeneity',\n",
       "       'Entropy', 'x_3rdordermoment', 'Inversevariance', 'Sumaverage',\n",
       "       'Variance', 'Clustertendency', 'MaxProbability'],\n",
       "      dtype='object')"
      ]
     },
     "execution_count": 9,
     "metadata": {},
     "output_type": "execute_result"
    }
   ],
   "source": [
    "df.columns"
   ]
  },
  {
   "cell_type": "code",
   "execution_count": 10,
   "id": "602cc931",
   "metadata": {},
   "outputs": [
    {
     "data": {
      "text/html": [
       "<div>\n",
       "<style scoped>\n",
       "    .dataframe tbody tr th:only-of-type {\n",
       "        vertical-align: middle;\n",
       "    }\n",
       "\n",
       "    .dataframe tbody tr th {\n",
       "        vertical-align: top;\n",
       "    }\n",
       "\n",
       "    .dataframe thead th {\n",
       "        text-align: right;\n",
       "    }\n",
       "</style>\n",
       "<table border=\"1\" class=\"dataframe\">\n",
       "  <thead>\n",
       "    <tr style=\"text-align: right;\">\n",
       "      <th></th>\n",
       "      <th>Area</th>\n",
       "      <th>ConvexArea</th>\n",
       "      <th>Perimeter</th>\n",
       "      <th>ConvexPerimeter</th>\n",
       "      <th>EquivDiameter</th>\n",
       "      <th>MajorAxisLength</th>\n",
       "      <th>MinorAxisLength</th>\n",
       "      <th>Elongation</th>\n",
       "      <th>Compactness</th>\n",
       "      <th>Eccentricity</th>\n",
       "      <th>...</th>\n",
       "      <th>Correlation</th>\n",
       "      <th>Energy</th>\n",
       "      <th>Homogeneity</th>\n",
       "      <th>Entropy</th>\n",
       "      <th>x_3rdordermoment</th>\n",
       "      <th>Inversevariance</th>\n",
       "      <th>Sumaverage</th>\n",
       "      <th>Variance</th>\n",
       "      <th>Clustertendency</th>\n",
       "      <th>MaxProbability</th>\n",
       "    </tr>\n",
       "  </thead>\n",
       "  <tbody>\n",
       "    <tr>\n",
       "      <th>0</th>\n",
       "      <td>1094</td>\n",
       "      <td>1286</td>\n",
       "      <td>168.852814</td>\n",
       "      <td>135.372918</td>\n",
       "      <td>37.321898</td>\n",
       "      <td>42.803687</td>\n",
       "      <td>35.834900</td>\n",
       "      <td>1.194469</td>\n",
       "      <td>2.073908</td>\n",
       "      <td>0.546909</td>\n",
       "      <td>...</td>\n",
       "      <td>0.894</td>\n",
       "      <td>0.0003</td>\n",
       "      <td>0.0532</td>\n",
       "      <td>8.15</td>\n",
       "      <td>1290000</td>\n",
       "      <td>0.0223</td>\n",
       "      <td>661.0</td>\n",
       "      <td>143000</td>\n",
       "      <td>541000</td>\n",
       "      <td>0.0009</td>\n",
       "    </tr>\n",
       "    <tr>\n",
       "      <th>1</th>\n",
       "      <td>918</td>\n",
       "      <td>951</td>\n",
       "      <td>121.840620</td>\n",
       "      <td>116.923682</td>\n",
       "      <td>34.188213</td>\n",
       "      <td>42.015647</td>\n",
       "      <td>28.631957</td>\n",
       "      <td>1.467439</td>\n",
       "      <td>1.286861</td>\n",
       "      <td>0.731856</td>\n",
       "      <td>...</td>\n",
       "      <td>0.781</td>\n",
       "      <td>0.0005</td>\n",
       "      <td>0.0567</td>\n",
       "      <td>7.76</td>\n",
       "      <td>11100000</td>\n",
       "      <td>0.0221</td>\n",
       "      <td>260.0</td>\n",
       "      <td>32700</td>\n",
       "      <td>115000</td>\n",
       "      <td>0.0012</td>\n",
       "    </tr>\n",
       "    <tr>\n",
       "      <th>2</th>\n",
       "      <td>931</td>\n",
       "      <td>1062</td>\n",
       "      <td>148.267027</td>\n",
       "      <td>119.799290</td>\n",
       "      <td>34.429435</td>\n",
       "      <td>39.635819</td>\n",
       "      <td>30.844618</td>\n",
       "      <td>1.285016</td>\n",
       "      <td>1.879012</td>\n",
       "      <td>0.628016</td>\n",
       "      <td>...</td>\n",
       "      <td>0.899</td>\n",
       "      <td>0.0004</td>\n",
       "      <td>0.0572</td>\n",
       "      <td>8.03</td>\n",
       "      <td>735000</td>\n",
       "      <td>0.0247</td>\n",
       "      <td>416.0</td>\n",
       "      <td>111000</td>\n",
       "      <td>420000</td>\n",
       "      <td>0.0010</td>\n",
       "    </tr>\n",
       "    <tr>\n",
       "      <th>3</th>\n",
       "      <td>161</td>\n",
       "      <td>167</td>\n",
       "      <td>51.455844</td>\n",
       "      <td>49.201081</td>\n",
       "      <td>14.317527</td>\n",
       "      <td>18.125068</td>\n",
       "      <td>11.574663</td>\n",
       "      <td>1.565926</td>\n",
       "      <td>1.308681</td>\n",
       "      <td>0.769539</td>\n",
       "      <td>...</td>\n",
       "      <td>0.692</td>\n",
       "      <td>0.0027</td>\n",
       "      <td>0.0312</td>\n",
       "      <td>6.03</td>\n",
       "      <td>-469000</td>\n",
       "      <td>0.0107</td>\n",
       "      <td>420.0</td>\n",
       "      <td>98700</td>\n",
       "      <td>333000</td>\n",
       "      <td>0.0043</td>\n",
       "    </tr>\n",
       "    <tr>\n",
       "      <th>4</th>\n",
       "      <td>246</td>\n",
       "      <td>251</td>\n",
       "      <td>58.769553</td>\n",
       "      <td>57.721132</td>\n",
       "      <td>17.697936</td>\n",
       "      <td>18.324991</td>\n",
       "      <td>17.321312</td>\n",
       "      <td>1.057945</td>\n",
       "      <td>1.117274</td>\n",
       "      <td>0.326408</td>\n",
       "      <td>...</td>\n",
       "      <td>0.793</td>\n",
       "      <td>0.0018</td>\n",
       "      <td>0.0764</td>\n",
       "      <td>6.43</td>\n",
       "      <td>8600000</td>\n",
       "      <td>0.0392</td>\n",
       "      <td>565.0</td>\n",
       "      <td>137000</td>\n",
       "      <td>492000</td>\n",
       "      <td>0.0052</td>\n",
       "    </tr>\n",
       "  </tbody>\n",
       "</table>\n",
       "<p>5 rows × 64 columns</p>\n",
       "</div>"
      ],
      "text/plain": [
       "   Area  ConvexArea   Perimeter  ConvexPerimeter  EquivDiameter  \\\n",
       "0  1094        1286  168.852814       135.372918      37.321898   \n",
       "1   918         951  121.840620       116.923682      34.188213   \n",
       "2   931        1062  148.267027       119.799290      34.429435   \n",
       "3   161         167   51.455844        49.201081      14.317527   \n",
       "4   246         251   58.769553        57.721132      17.697936   \n",
       "\n",
       "   MajorAxisLength  MinorAxisLength  Elongation  Compactness  Eccentricity  \\\n",
       "0        42.803687        35.834900    1.194469     2.073908      0.546909   \n",
       "1        42.015647        28.631957    1.467439     1.286861      0.731856   \n",
       "2        39.635819        30.844618    1.285016     1.879012      0.628016   \n",
       "3        18.125068        11.574663    1.565926     1.308681      0.769539   \n",
       "4        18.324991        17.321312    1.057945     1.117274      0.326408   \n",
       "\n",
       "   ...  Correlation  Energy  Homogeneity  Entropy  x_3rdordermoment  \\\n",
       "0  ...        0.894  0.0003       0.0532     8.15           1290000   \n",
       "1  ...        0.781  0.0005       0.0567     7.76          11100000   \n",
       "2  ...        0.899  0.0004       0.0572     8.03            735000   \n",
       "3  ...        0.692  0.0027       0.0312     6.03           -469000   \n",
       "4  ...        0.793  0.0018       0.0764     6.43           8600000   \n",
       "\n",
       "   Inversevariance  Sumaverage  Variance  Clustertendency  MaxProbability  \n",
       "0           0.0223       661.0    143000           541000          0.0009  \n",
       "1           0.0221       260.0     32700           115000          0.0012  \n",
       "2           0.0247       416.0    111000           420000          0.0010  \n",
       "3           0.0107       420.0     98700           333000          0.0043  \n",
       "4           0.0392       565.0    137000           492000          0.0052  \n",
       "\n",
       "[5 rows x 64 columns]"
      ]
     },
     "execution_count": 10,
     "metadata": {},
     "output_type": "execute_result"
    }
   ],
   "source": [
    "df.head()"
   ]
  },
  {
   "cell_type": "code",
   "execution_count": 11,
   "id": "a85abb0e",
   "metadata": {},
   "outputs": [],
   "source": [
    "from sklearn.preprocessing import StandardScaler\n",
    "from sklearn.decomposition import PCA"
   ]
  },
  {
   "cell_type": "code",
   "execution_count": 12,
   "id": "f01d646f",
   "metadata": {},
   "outputs": [],
   "source": [
    "scaler=StandardScaler()\n",
    "scaler.fit(df)\n",
    "scaler_data=scaler.transform(df)"
   ]
  },
  {
   "cell_type": "code",
   "execution_count": 13,
   "id": "a87d12d9",
   "metadata": {},
   "outputs": [
    {
     "data": {
      "text/plain": [
       "array([[ 2.96825716,  3.11302878,  3.38696964, ...,  0.17649608,\n",
       "         0.32163175, -1.25984484],\n",
       "       [ 2.39071677,  2.14352372,  2.04572419, ..., -0.56311557,\n",
       "        -0.5542773 , -1.20480766],\n",
       "       [ 2.433376  ,  2.46476271,  2.79966259, ..., -0.03807847,\n",
       "         0.07284068, -1.24149912],\n",
       "       ...,\n",
       "       [-0.42479265, -0.43217627, -0.57327674, ..., -0.66369739,\n",
       "        -0.69203765,  0.62976499],\n",
       "       [ 0.5268364 ,  0.48234193,  0.73622372, ..., -0.02466756,\n",
       "         0.06461618, -0.92962176],\n",
       "       [-0.37228898, -0.3887656 , -0.4868477 , ..., -0.39212648,\n",
       "        -0.37539447,  0.75818508]])"
      ]
     },
     "execution_count": 13,
     "metadata": {},
     "output_type": "execute_result"
    }
   ],
   "source": [
    "scaler_data"
   ]
  },
  {
   "cell_type": "code",
   "execution_count": 14,
   "id": "92e4c33b",
   "metadata": {},
   "outputs": [
    {
     "data": {
      "text/html": [
       "<style>#sk-container-id-1 {color: black;background-color: white;}#sk-container-id-1 pre{padding: 0;}#sk-container-id-1 div.sk-toggleable {background-color: white;}#sk-container-id-1 label.sk-toggleable__label {cursor: pointer;display: block;width: 100%;margin-bottom: 0;padding: 0.3em;box-sizing: border-box;text-align: center;}#sk-container-id-1 label.sk-toggleable__label-arrow:before {content: \"▸\";float: left;margin-right: 0.25em;color: #696969;}#sk-container-id-1 label.sk-toggleable__label-arrow:hover:before {color: black;}#sk-container-id-1 div.sk-estimator:hover label.sk-toggleable__label-arrow:before {color: black;}#sk-container-id-1 div.sk-toggleable__content {max-height: 0;max-width: 0;overflow: hidden;text-align: left;background-color: #f0f8ff;}#sk-container-id-1 div.sk-toggleable__content pre {margin: 0.2em;color: black;border-radius: 0.25em;background-color: #f0f8ff;}#sk-container-id-1 input.sk-toggleable__control:checked~div.sk-toggleable__content {max-height: 200px;max-width: 100%;overflow: auto;}#sk-container-id-1 input.sk-toggleable__control:checked~label.sk-toggleable__label-arrow:before {content: \"▾\";}#sk-container-id-1 div.sk-estimator input.sk-toggleable__control:checked~label.sk-toggleable__label {background-color: #d4ebff;}#sk-container-id-1 div.sk-label input.sk-toggleable__control:checked~label.sk-toggleable__label {background-color: #d4ebff;}#sk-container-id-1 input.sk-hidden--visually {border: 0;clip: rect(1px 1px 1px 1px);clip: rect(1px, 1px, 1px, 1px);height: 1px;margin: -1px;overflow: hidden;padding: 0;position: absolute;width: 1px;}#sk-container-id-1 div.sk-estimator {font-family: monospace;background-color: #f0f8ff;border: 1px dotted black;border-radius: 0.25em;box-sizing: border-box;margin-bottom: 0.5em;}#sk-container-id-1 div.sk-estimator:hover {background-color: #d4ebff;}#sk-container-id-1 div.sk-parallel-item::after {content: \"\";width: 100%;border-bottom: 1px solid gray;flex-grow: 1;}#sk-container-id-1 div.sk-label:hover label.sk-toggleable__label {background-color: #d4ebff;}#sk-container-id-1 div.sk-serial::before {content: \"\";position: absolute;border-left: 1px solid gray;box-sizing: border-box;top: 0;bottom: 0;left: 50%;z-index: 0;}#sk-container-id-1 div.sk-serial {display: flex;flex-direction: column;align-items: center;background-color: white;padding-right: 0.2em;padding-left: 0.2em;position: relative;}#sk-container-id-1 div.sk-item {position: relative;z-index: 1;}#sk-container-id-1 div.sk-parallel {display: flex;align-items: stretch;justify-content: center;background-color: white;position: relative;}#sk-container-id-1 div.sk-item::before, #sk-container-id-1 div.sk-parallel-item::before {content: \"\";position: absolute;border-left: 1px solid gray;box-sizing: border-box;top: 0;bottom: 0;left: 50%;z-index: -1;}#sk-container-id-1 div.sk-parallel-item {display: flex;flex-direction: column;z-index: 1;position: relative;background-color: white;}#sk-container-id-1 div.sk-parallel-item:first-child::after {align-self: flex-end;width: 50%;}#sk-container-id-1 div.sk-parallel-item:last-child::after {align-self: flex-start;width: 50%;}#sk-container-id-1 div.sk-parallel-item:only-child::after {width: 0;}#sk-container-id-1 div.sk-dashed-wrapped {border: 1px dashed gray;margin: 0 0.4em 0.5em 0.4em;box-sizing: border-box;padding-bottom: 0.4em;background-color: white;}#sk-container-id-1 div.sk-label label {font-family: monospace;font-weight: bold;display: inline-block;line-height: 1.2em;}#sk-container-id-1 div.sk-label-container {text-align: center;}#sk-container-id-1 div.sk-container {/* jupyter's `normalize.less` sets `[hidden] { display: none; }` but bootstrap.min.css set `[hidden] { display: none !important; }` so we also need the `!important` here to be able to override the default hidden behavior on the sphinx rendered scikit-learn.org. See: https://github.com/scikit-learn/scikit-learn/issues/21755 */display: inline-block !important;position: relative;}#sk-container-id-1 div.sk-text-repr-fallback {display: none;}</style><div id=\"sk-container-id-1\" class=\"sk-top-container\"><div class=\"sk-text-repr-fallback\"><pre>PCA()</pre><b>In a Jupyter environment, please rerun this cell to show the HTML representation or trust the notebook. <br />On GitHub, the HTML representation is unable to render, please try loading this page with nbviewer.org.</b></div><div class=\"sk-container\" hidden><div class=\"sk-item\"><div class=\"sk-estimator sk-toggleable\"><input class=\"sk-toggleable__control sk-hidden--visually\" id=\"sk-estimator-id-1\" type=\"checkbox\" checked><label for=\"sk-estimator-id-1\" class=\"sk-toggleable__label sk-toggleable__label-arrow\">PCA</label><div class=\"sk-toggleable__content\"><pre>PCA()</pre></div></div></div></div></div>"
      ],
      "text/plain": [
       "PCA()"
      ]
     },
     "execution_count": 14,
     "metadata": {},
     "output_type": "execute_result"
    }
   ],
   "source": [
    "# Fit PCA with all components\n",
    "pca_full = PCA(svd_solver='auto')\n",
    "pca_full.fit(scaler_data)"
   ]
  },
  {
   "cell_type": "code",
   "execution_count": 15,
   "id": "cc091db9",
   "metadata": {},
   "outputs": [],
   "source": [
    "# Calculate the cumulative explained variance ratio\n",
    "cumulative_variance = np.cumsum(pca_full.explained_variance_ratio_)"
   ]
  },
  {
   "cell_type": "code",
   "execution_count": 16,
   "id": "df538abc",
   "metadata": {},
   "outputs": [
    {
     "name": "stdout",
     "output_type": "stream",
     "text": [
      "The elbow point is 14.\n"
     ]
    }
   ],
   "source": [
    "# Find the elbow point\n",
    "kneedle = KneeLocator(range(1, len(cumulative_variance) + 1), cumulative_variance, S=1.0, curve='concave', direction='increasing')\n",
    "elbow_point = kneedle.elbow\n",
    "print(f\"The elbow point is {elbow_point}.\")"
   ]
  },
  {
   "cell_type": "code",
   "execution_count": 17,
   "id": "8d079c9c",
   "metadata": {},
   "outputs": [
    {
     "data": {
      "image/png": "[encoded data removed]",
      "text/plain": [
       "<Figure size 640x480 with 1 Axes>"
      ]
     },
     "metadata": {},
     "output_type": "display_data"
    }
   ],
   "source": [
    "# Plot the explained variance ratio\n",
    "plt.plot(cumulative_variance)\n",
    "plt.xlabel('Number of Components')\n",
    "plt.ylabel('Cumulative Explained Variance Ratio')\n",
    "\n",
    "plt.vlines(elbow_point, plt.ylim()[0], plt.ylim()[1], linestyles='dashed')\n",
    "plt.show()"
   ]
  },
  {
   "cell_type": "code",
   "execution_count": null,
   "id": "0e411a09",
   "metadata": {},
   "outputs": [],
   "source": []
  }
 ],
 "metadata": {
  "kernelspec": {
   "display_name": "Python 3 (ipykernel)",
   "language": "python",
   "name": "python3"
  },
  "language_info": {
   "codemirror_mode": {
    "name": "ipython",
    "version": 3
   },
   "file_extension": ".py",
   "mimetype": "text/x-python",
   "name": "python",
   "nbconvert_exporter": "python",
   "pygments_lexer": "ipython3",
   "version": "3.11.2"
  }
 },
 "nbformat": 4,
 "nbformat_minor": 5
}
